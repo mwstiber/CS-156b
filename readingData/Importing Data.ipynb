{
 "cells": [
  {
   "cell_type": "code",
   "execution_count": 1,
   "metadata": {
    "collapsed": true
   },
   "outputs": [],
   "source": [
    "import numpy as np"
   ]
  },
  {
   "cell_type": "code",
   "execution_count": 2,
   "metadata": {
    "collapsed": true
   },
   "outputs": [],
   "source": [
    "raw_data = np.loadtxt(\"Data/um/all.dta\", delimiter=\" \") # Store the data in raw_data\n",
    "inds = np.loadtxt(\"Data/um/all.idx\", delimiter=\" \") # Get the inds "
   ]
  },
  {
   "cell_type": "code",
   "execution_count": 4,
   "metadata": {
    "collapsed": true
   },
   "outputs": [],
   "source": [
    "# Constants\n",
    "NUM_USERS = 458293\n",
    "NUM_MOVIES = 17770\n",
    "MAX_CHARS = 15"
   ]
  },
  {
   "cell_type": "code",
   "execution_count": 7,
   "metadata": {},
   "outputs": [
    {
     "name": "stdout",
     "output_type": "stream",
     "text": [
      "[0. 0. 0. ... 0. 0. 0.]\n"
     ]
    }
   ],
   "source": [
    "'''train = np.zeros((NUM_USERS+1, NUM_MOVIES+1))\n",
    "test = np.zeros((NUM_USERS+1, NUM_MOVIES+1))\n",
    "for i in range(len(raw_data)):\n",
    "    if (int (inds[i]) == 1) or (int (inds[i]) == 2):\n",
    "        train[int (raw_data[i][0])][int (raw_data[i][1])] = int (raw_data[i][3])'''"
   ]
  },
  {
   "cell_type": "code",
   "execution_count": null,
   "metadata": {
    "collapsed": true
   },
   "outputs": [],
   "source": [
    "train = []\n",
    "test = []\n",
    "for i in range(len(raw_data)):\n",
    "    if (int (inds[i]) == 1) or (int (inds[i]) == 2):\n",
    "        train.append([int (raw_data[i][0]), int (raw_data[i][1]), int (raw_data[i][3])])\n",
    "    if (int (inds[i]) == 5):\n",
    "        train.append([int (raw_data[i][0]), int (raw_data[i][1])])"
   ]
  },
  {
   "cell_type": "code",
   "execution_count": 1,
   "metadata": {
    "collapsed": true
   },
   "outputs": [],
   "source": [
    "def grad_U(Ui, Yij, Vj, reg, eta):\n",
    "    \"\"\"\n",
    "    Takes as input Ui (the ith row of U), a training point Yij, the column\n",
    "    vector Vj (jth column of V^T), reg (the regularization parameter lambda),\n",
    "    and eta (the learning rate).\n",
    "\n",
    "    Returns the gradient of the regularized loss function with\n",
    "    respect to Ui multiplied by eta.\n",
    "    \"\"\"\n",
    "    grad = reg * Vj + (-1 * Vj * (Yij - np.dot(Vj, Ui)))   \n",
    "    return eta * grad\n",
    "\n",
    "def grad_V(Vj, Yij, Ui, reg, eta):\n",
    "    \"\"\"\n",
    "    Takes as input the column vector Vj (jth column of V^T), a training point Yij,\n",
    "    Ui (the ith row of U), reg (the regularization parameter lambda),\n",
    "    and eta (the learning rate).\n",
    "\n",
    "    Returns the gradient of the regularized loss function with\n",
    "    respect to Vj multiplied by eta.\n",
    "    \"\"\"\n",
    "    grad = reg * Vj + (-1 * Ui * (Yij - np.dot(Vj, Ui)))\n",
    "    return eta * grad\n",
    "\n",
    "def get_err(U, V, Y, reg=0.0):\n",
    "    \"\"\"\n",
    "    Takes as input a matrix Y of triples (i, j, Y_ij) where i is the index of a user,\n",
    "    j is the index of a movie, and Y_ij is user i's rating of movie j and\n",
    "    user/movie matrices U and V.\n",
    "\n",
    "    Returns the mean regularized squared-error of predictions made by\n",
    "    estimating Y_{ij} as the dot product of the ith row of U and the jth column of V^T.\n",
    "    \"\"\"\n",
    "    # Calculate Norm U and Norm V\n",
    "    U_norm = np.linalg.norm(U)\n",
    "    V_norm = np.linalg.norm(V)\n",
    "\n",
    "    summation = 0\n",
    "    for k in range(len(Y)):\n",
    "        i = Y[k][0] -1\n",
    "        j = Y[k][1] -1\n",
    "        Yij = Y[k][2]\n",
    "        Yij_predicted = np.dot(U[i], V[j])\n",
    "        summation += (Yij - Yij_predicted)**2\n",
    "\n",
    "\n",
    "    return ((reg / 2) * (U_norm**2 + V_norm**2) + .5 * summation) / len(Y)\n",
    "\n",
    "\n",
    "def train_model(M, N, K, eta, reg, Y, eps=0.001, max_epochs=5):\n",
    "    \"\"\"\n",
    "    Given a training data matrix Y containing rows (i, j, Y_ij)\n",
    "    where Y_ij is user i's rating on movie j, learns an\n",
    "    M x K matrix U and N x K matrix V such that rating Y_ij is approximated\n",
    "    by (UV^T)_ij.\n",
    "\n",
    "    Uses a learning rate of <eta> and regularization of <reg>. Stops after\n",
    "    <max_epochs> epochs, or once the magnitude of the decrease in regularized\n",
    "    MSE between epochs is smaller than a fraction <eps> of the decrease in\n",
    "    MSE after the first epoch.\n",
    "\n",
    "    Returns a tuple (U, V, err) consisting of U, V, and the unregularized MSE\n",
    "    of the model.\n",
    "    \"\"\"\n",
    "    U = np.random.uniform(-.5, .5, (M, K))\n",
    "    V = np.random.uniform(-.5, .5, (N, K))\n",
    "\n",
    "    firstLossDiff = get_err(U, V, Y, reg)\n",
    "    for epoch in range(max_epochs):\n",
    "        print(\"epoch: \" + str(epoch))\n",
    "        Ytemp = np.random.permutation(Y)\n",
    "\n",
    "        prevLoss = get_err(U, V, Y, reg)\n",
    "        # Train\n",
    "        for k in range(len(Y)):\n",
    "            i = Ytemp[k][0] -1\n",
    "            j = Ytemp[k][1] -1\n",
    "            y = Ytemp[k][2]\n",
    "            U[i] -= grad_U(U[i], y, V[j], reg, eta)\n",
    "            V[j] -= grad_V(V[j], y, U[i], reg, eta)\n",
    "\n",
    "        if epoch == 0:\n",
    "            firstLossDiff =  firstLossDiff - get_err(U, V, Y, reg)\n",
    "        else:\n",
    "            curLossDiff = prevLoss - get_err(U, V, Y, reg)\n",
    "            print(curLossDiff/firstLossDiff)\n",
    "            if curLossDiff / firstLossDiff <= eps:\n",
    "                break\n",
    "    return (U, V)"
   ]
  },
  {
   "cell_type": "code",
   "execution_count": null,
   "metadata": {
    "collapsed": true
   },
   "outputs": [],
   "source": [
    "def predictedY(U, V, testing)\n",
    "    predicted = []\n",
    "    \n",
    "    "
   ]
  },
  {
   "cell_type": "code",
   "execution_count": null,
   "metadata": {
    "collapsed": true
   },
   "outputs": [],
   "source": [
    "M = max(max(train[:,0]), max(test[:,0])).astype(int) # users\n",
    "N = max(max(train[:,1]), max(test[:,1])).astype(int) # movies\n",
    "reg = 0.0\n",
    "eta = 0.03\n",
    "K = 10\n",
    "U, V = train_model(M, N, K, eta, reg, train)\n",
    "ratings = predictedY(U, V, test)"
   ]
  },
  {
   "cell_type": "code",
   "execution_count": null,
   "metadata": {
    "collapsed": true
   },
   "outputs": [],
   "source": [
    "testFile = open(\"SVD.txt\", \"w\")\n",
    "for item in ratings:\n",
    "    testFile.write(item + '\\n')\n",
    "testFile.close()"
   ]
  }
 ],
 "metadata": {
  "kernelspec": {
   "display_name": "Python 3",
   "language": "python",
   "name": "python3"
  },
  "language_info": {
   "codemirror_mode": {
    "name": "ipython",
    "version": 3
   },
   "file_extension": ".py",
   "mimetype": "text/x-python",
   "name": "python",
   "nbconvert_exporter": "python",
   "pygments_lexer": "ipython3",
   "version": "3.6.3"
  }
 },
 "nbformat": 4,
 "nbformat_minor": 2
}

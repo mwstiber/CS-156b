{
 "cells": [
  {
   "cell_type": "code",
   "execution_count": null,
   "metadata": {
    "collapsed": true
   },
   "outputs": [],
   "source": [
    "import numpy as np"
   ]
  },
  {
   "cell_type": "code",
   "execution_count": null,
   "metadata": {
    "collapsed": false
   },
   "outputs": [],
   "source": [
    "raw_data = np.loadtxt(\"Data/um/all.dta\", delimiter=\" \") # Store the data in raw_data\n",
    "inds = np.loadtxt(\"Data/um/all.idx\", delimiter=\" \") # Get the inds "
   ]
  },
  {
   "cell_type": "code",
   "execution_count": null,
   "metadata": {
    "collapsed": true
   },
   "outputs": [],
   "source": [
    "# Constants\n",
    "static NUM_USERS = 458293\n",
    "static NUM_MOVIES = 17770\n",
    "static MAX_CHARS = 15"
   ]
  },
  {
   "cell_type": "code",
   "execution_count": null,
   "metadata": {
    "collapsed": true
   },
   "outputs": [],
   "source": [
    "train = np.zeros((NUM_USERS, NUM_MOVIES))\n",
    "for i in range(len(raw_data)):\n",
    "    if inds[i] == 1 or inds[i] == 2:\n",
    "        train[raw_data[i][0]][raw_data[i][1]] = raw_data[i][3]\n",
    "print(train[0])"
   ]
  }
 ],
 "metadata": {
  "kernelspec": {
   "display_name": "Python 3",
   "language": "python",
   "name": "python3"
  },
  "language_info": {
   "codemirror_mode": {
    "name": "ipython",
    "version": 3
   },
   "file_extension": ".py",
   "mimetype": "text/x-python",
   "name": "python",
   "nbconvert_exporter": "python",
   "pygments_lexer": "ipython3",
   "version": "3.6.0"
  }
 },
 "nbformat": 4,
 "nbformat_minor": 2
}
